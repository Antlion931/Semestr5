{
 "cells": [
  {
   "cell_type": "code",
   "execution_count": 3,
   "metadata": {},
   "outputs": [
    {
     "name": "stdout",
     "output_type": "stream",
     "text": [
      "0011111111110000000000000000000000000000000000000000000000000000\n",
      "0011111111110000000000000000000000000000000000000000000000000001\n",
      "0011111111110000000000000000000000000000000000000000000000000010\n",
      "0011111111110000000000000000000000000000000000000000000000000011\n",
      "0011111111111111111111111111111111111111111111111111111111111110\n",
      "0011111111111111111111111111111111111111111111111111111111111111\n",
      "0100000000000000000000000000000000000000000000000000000000000000\n"
     ]
    }
   ],
   "source": [
    "x = Float64(1)\n",
    "step = Float64(2) ^ -52\n",
    "\n",
    "println(bitstring(x))\n",
    "println(bitstring(x + step))\n",
    "println(bitstring(x + 2*step))\n",
    "println(bitstring(x + 3*step))\n",
    "println(bitstring(x + (2^52 - 2)*step))\n",
    "println(bitstring(x + (2^52 - 1)*step))\n",
    "println(bitstring(x + (2^52)*step))"
   ]
  },
  {
   "cell_type": "code",
   "execution_count": 5,
   "metadata": {},
   "outputs": [
    {
     "name": "stdout",
     "output_type": "stream",
     "text": [
      "0100000000000000000000000000000000000000000000000000000000000000\n",
      "0100000000000000000000000000000000000000000000000000000000000001\n",
      "0100000000000000000000000000000000000000000000000000000000000010\n",
      "0100000000000000000000000000000000000000000000000000000000000011\n",
      "0100000000000111111111111111111111111111111111111111111111111110\n",
      "0100000000000111111111111111111111111111111111111111111111111111\n",
      "0100000000001000000000000000000000000000000000000000000000000000\n"
     ]
    }
   ],
   "source": [
    "x = Float64(2)\n",
    "step = Float64(2) ^ -51\n",
    "\n",
    "println(bitstring(x))\n",
    "println(bitstring(x + step))\n",
    "println(bitstring(x + 2*step))\n",
    "println(bitstring(x + 3*step))\n",
    "println(bitstring(x + (2^51 - 2)*step))\n",
    "println(bitstring(x + (2^51 - 1)*step))\n",
    "println(bitstring(x + (2^51)*step))"
   ]
  },
  {
   "cell_type": "code",
   "execution_count": 7,
   "metadata": {},
   "outputs": [
    {
     "name": "stdout",
     "output_type": "stream",
     "text": [
      "0011111111100000000000000000000000000000000000000000000000000000\n",
      "0011111111100000000000000000000000000000000000000000000000000001\n",
      "0011111111100000000000000000000000000000000000000000000000000010\n",
      "0011111111100000000000000000000000000000000000000000000000000011\n",
      "0011111111100111111111111111111111111111111111111111111111111110\n",
      "0011111111100111111111111111111111111111111111111111111111111111\n",
      "0011111111101000000000000000000000000000000000000000000000000000\n"
     ]
    }
   ],
   "source": [
    "x = Float64(0.5)\n",
    "step = Float64(2) ^ -53\n",
    "\n",
    "println(bitstring(x))\n",
    "println(bitstring(x + step))\n",
    "println(bitstring(x + 2*step))\n",
    "println(bitstring(x + 3*step))\n",
    "println(bitstring(x + (2^51 - 2)*step))\n",
    "println(bitstring(x + (2^51 - 1)*step))\n",
    "println(bitstring(x + (2^51)*step))"
   ]
  }
 ],
 "metadata": {
  "kernelspec": {
   "display_name": "Julia 1.9.1",
   "language": "julia",
   "name": "julia-1.9"
  },
  "language_info": {
   "file_extension": ".jl",
   "mimetype": "application/julia",
   "name": "julia",
   "version": "1.9.1"
  }
 },
 "nbformat": 4,
 "nbformat_minor": 2
}
