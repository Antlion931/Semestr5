{
 "cells": [
  {
   "cell_type": "code",
   "execution_count": 36,
   "metadata": {},
   "outputs": [
    {
     "data": {
      "text/plain": [
       "my_eps (generic function with 1 method)"
      ]
     },
     "metadata": {},
     "output_type": "display_data"
    }
   ],
   "source": [
    "function my_eps(T)\n",
    "    one = T(1)\n",
    "    x = T(1)\n",
    "    while one + x / T(2) > T(1)\n",
    "        x /= T(2)\n",
    "    end\n",
    "    x\n",
    "end"
   ]
  },
  {
   "cell_type": "code",
   "execution_count": 2,
   "metadata": {},
   "outputs": [
    {
     "name": "stdout",
     "output_type": "stream",
     "text": [
      "0.000977\n",
      "0.000977\n"
     ]
    }
   ],
   "source": [
    "println(eps(Float16))\n",
    "println(my_eps(Float16))"
   ]
  },
  {
   "cell_type": "code",
   "execution_count": 3,
   "metadata": {},
   "outputs": [
    {
     "name": "stdout",
     "output_type": "stream",
     "text": [
      "1.1920929e-7\n"
     ]
    },
    {
     "name": "stdout",
     "output_type": "stream",
     "text": [
      "1.1920929e-7\n"
     ]
    }
   ],
   "source": [
    "println(eps(Float32))\n",
    "println(my_eps(Float32))"
   ]
  },
  {
   "cell_type": "code",
   "execution_count": 4,
   "metadata": {},
   "outputs": [
    {
     "name": "stdout",
     "output_type": "stream",
     "text": [
      "2.220446049250313e-16\n",
      "2.220446049250313e-16\n"
     ]
    }
   ],
   "source": [
    "println(eps(Float64))\n",
    "println(my_eps(Float64))"
   ]
  },
  {
   "cell_type": "code",
   "execution_count": 20,
   "metadata": {},
   "outputs": [
    {
     "data": {
      "text/plain": [
       "my_eta (generic function with 1 method)"
      ]
     },
     "metadata": {},
     "output_type": "display_data"
    }
   ],
   "source": [
    "function my_eta(T)\n",
    "    x = T(1)\n",
    "    while x/T(2) > 0\n",
    "        x /= T(2)\n",
    "    end\n",
    "    x\n",
    "end"
   ]
  },
  {
   "cell_type": "code",
   "execution_count": 6,
   "metadata": {},
   "outputs": [
    {
     "name": "stdout",
     "output_type": "stream",
     "text": [
      "6.0e-8\n",
      "6.0e-8\n"
     ]
    }
   ],
   "source": [
    "println(nextfloat(Float16(0)))\n",
    "println(my_eta(Float16))"
   ]
  },
  {
   "cell_type": "code",
   "execution_count": 18,
   "metadata": {},
   "outputs": [
    {
     "name": "stdout",
     "output_type": "stream",
     "text": [
      "1.0e-45\n"
     ]
    },
    {
     "name": "stdout",
     "output_type": "stream",
     "text": [
      "00000000000000000000000000000001\n"
     ]
    }
   ],
   "source": [
    "println(nextfloat(Float32(0)))\n",
    "println(my_eta(Float32))"
   ]
  },
  {
   "cell_type": "code",
   "execution_count": 19,
   "metadata": {},
   "outputs": [
    {
     "name": "stdout",
     "output_type": "stream",
     "text": [
      "5.0e-324\n",
      "0000000000000000000000000000000000000000000000000000000000000001\n"
     ]
    }
   ],
   "source": [
    "println(nextfloat(Float64(0)))\n",
    "println(my_eta(Float64))\n"
   ]
  },
  {
   "cell_type": "code",
   "execution_count": 47,
   "metadata": {},
   "outputs": [
    {
     "data": {
      "text/plain": [
       "my_max (generic function with 1 method)"
      ]
     },
     "metadata": {},
     "output_type": "display_data"
    }
   ],
   "source": [
    "function my_max(T)\n",
    "    x = T(2) - my_eps(T) \n",
    "    while x * T(2)< Inf\n",
    "        x *= T(2)\n",
    "    end\n",
    "    x \n",
    "end"
   ]
  },
  {
   "cell_type": "code",
   "execution_count": 48,
   "metadata": {},
   "outputs": [
    {
     "name": "stdout",
     "output_type": "stream",
     "text": [
      "6.55e4\n",
      "6.55e4\n"
     ]
    }
   ],
   "source": [
    "println(floatmax(Float16))\n",
    "println(my_max(Float16))"
   ]
  },
  {
   "cell_type": "code",
   "execution_count": 49,
   "metadata": {},
   "outputs": [
    {
     "name": "stdout",
     "output_type": "stream",
     "text": [
      "3.4028235e38\n",
      "3.4028235e38\n"
     ]
    }
   ],
   "source": [
    "println(floatmax(Float32))\n",
    "println(my_max(Float32))"
   ]
  },
  {
   "cell_type": "code",
   "execution_count": 50,
   "metadata": {},
   "outputs": [
    {
     "name": "stdout",
     "output_type": "stream",
     "text": [
      "1.7976931348623157e308\n",
      "1.7976931348623157e308\n"
     ]
    }
   ],
   "source": [
    "println(floatmax(Float64))\n",
    "println(my_max(Float64))"
   ]
  }
 ],
 "metadata": {
  "kernelspec": {
   "display_name": "Julia 1.9.1",
   "language": "julia",
   "name": "julia-1.9"
  },
  "language_info": {
   "file_extension": ".jl",
   "mimetype": "application/julia",
   "name": "julia",
   "version": "1.9.1"
  }
 },
 "nbformat": 4,
 "nbformat_minor": 2
}
